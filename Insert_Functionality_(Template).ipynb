{
 "cells": [
  {
   "cell_type": "markdown",
   "id": "b24d3af0",
   "metadata": {},
   "source": [
    "# MongoDB Insert Functionality\n",
    "\n",
    "Go over how to use the various insert functions of the pymongo module. "
   ]
  },
  {
   "cell_type": "markdown",
   "id": "39489b53",
   "metadata": {},
   "source": [
    "### Import pymongo, and MongoClient"
   ]
  },
  {
   "cell_type": "code",
   "execution_count": 19,
   "id": "85bcfe68",
   "metadata": {},
   "outputs": [],
   "source": [
    "from pymongo import MongoClient"
   ]
  },
  {
   "cell_type": "markdown",
   "id": "effa3f67",
   "metadata": {},
   "source": [
    "### Initalize A Client, Connect To DB, Speicfy Collection"
   ]
  },
  {
   "cell_type": "code",
   "execution_count": 20,
   "id": "8e804eb5",
   "metadata": {},
   "outputs": [],
   "source": [
    "client = MongoClient(\"localhost\" ,27017)\n",
    "db = client.test\n",
    "users_col = db.testing"
   ]
  },
  {
   "cell_type": "markdown",
   "id": "ee23c90b",
   "metadata": {},
   "source": [
    "### insert()\n",
    "*Deprecated, Do Not Use In Your Applications*"
   ]
  },
  {
   "cell_type": "code",
   "execution_count": null,
   "id": "bd91e57d",
   "metadata": {},
   "outputs": [],
   "source": []
  },
  {
   "cell_type": "code",
   "execution_count": null,
   "id": "f35fd170",
   "metadata": {},
   "outputs": [],
   "source": []
  },
  {
   "cell_type": "code",
   "execution_count": null,
   "id": "6bd3bd00",
   "metadata": {},
   "outputs": [],
   "source": []
  },
  {
   "cell_type": "code",
   "execution_count": null,
   "id": "55470369",
   "metadata": {},
   "outputs": [],
   "source": []
  },
  {
   "cell_type": "markdown",
   "id": "eb46075c",
   "metadata": {},
   "source": [
    "### insert_one()"
   ]
  },
  {
   "cell_type": "code",
   "execution_count": 21,
   "id": "eb1c0284",
   "metadata": {},
   "outputs": [
    {
     "data": {
      "text/plain": [
       "InsertOneResult(ObjectId('66898cc6e05c0b2b54808da8'), acknowledged=True)"
      ]
     },
     "execution_count": 21,
     "metadata": {},
     "output_type": "execute_result"
    }
   ],
   "source": [
    "users_col.insert_one({\"name\": \"pens\" , \"price\": 10.00})"
   ]
  },
  {
   "cell_type": "markdown",
   "id": "e1ff101a-4907-485a-ac30-4fa9cedec07c",
   "metadata": {},
   "source": [
    "Check API if we want to know if our Data is Inserted or not "
   ]
  },
  {
   "cell_type": "code",
   "execution_count": 25,
   "id": "c7aa371e",
   "metadata": {},
   "outputs": [
    {
     "name": "stdout",
     "output_type": "stream",
     "text": [
      "Collection(Database(MongoClient(host=['localhost:27017'], document_class=dict, tz_aware=False, connect=True), 'test'), 'testing.acknowledged')\n",
      "Collection(Database(MongoClient(host=['localhost:27017'], document_class=dict, tz_aware=False, connect=True), 'test'), 'testing.inserted_id')\n"
     ]
    }
   ],
   "source": [
    "print(users_col.acknowledged)\n",
    "print(users_col.inserted_id)\n"
   ]
  },
  {
   "cell_type": "markdown",
   "id": "92198609",
   "metadata": {},
   "source": [
    "### insert_many()"
   ]
  },
  {
   "cell_type": "code",
   "execution_count": 26,
   "id": "2250576a",
   "metadata": {},
   "outputs": [],
   "source": [
    "water_bottle = {\"name\": \"aqua\" , \"price\": 3.50}\n",
    "jar = {\"name\": \"jar\" , \"price\": 2.50}"
   ]
  },
  {
   "cell_type": "code",
   "execution_count": 28,
   "id": "2fd547a9",
   "metadata": {},
   "outputs": [],
   "source": [
    "insert_many_res = users_col.insert_many([water_bottle , jar])"
   ]
  },
  {
   "cell_type": "markdown",
   "id": "2a03d90d-7ec2-4c19-9ca4-e3b217d034e8",
   "metadata": {},
   "source": [
    "Check API if we want to know if our Data is Inserted or not "
   ]
  },
  {
   "cell_type": "code",
   "execution_count": 30,
   "id": "77ce4cfd",
   "metadata": {},
   "outputs": [
    {
     "name": "stdout",
     "output_type": "stream",
     "text": [
      "True\n",
      "[ObjectId('66898fcae05c0b2b54808da9'), ObjectId('66898fcae05c0b2b54808daa')]\n"
     ]
    }
   ],
   "source": [
    "print(insert_many_res.acknowledged)\n",
    "print(insert_many_res.inserted_ids)"
   ]
  },
  {
   "cell_type": "markdown",
   "id": "56028205",
   "metadata": {},
   "source": [
    "### Error Handling When Inserting"
   ]
  },
  {
   "cell_type": "markdown",
   "id": "de20f618-60ba-46aa-b4ad-61543e49c060",
   "metadata": {},
   "source": [
    "Important to note when error handling with Insert_one or insert_many is evrn tho we chnage the attraibute the ObjectId wont be able to create an Id FOR US.\n",
    "INSTEAD CREATE AN ANOTHER insert_one or insert_many. If we are trying to store insert_one and insert_many in a variable. The varibale names Should be Different otheriwse it will create a \"Duplicate Error\""
   ]
  },
  {
   "cell_type": "code",
   "execution_count": 39,
   "id": "2758732c",
   "metadata": {},
   "outputs": [
    {
     "data": {
      "text/plain": [
       "InsertOneResult(ObjectId('6689940fe05c0b2b54808db0'), acknowledged=True)"
      ]
     },
     "execution_count": 39,
     "metadata": {},
     "output_type": "execute_result"
    }
   ],
   "source": [
    "users_col.insert_one({\"name\": \"pens\" , \"price\": 11.50})"
   ]
  },
  {
   "cell_type": "code",
   "execution_count": 40,
   "id": "400917eb",
   "metadata": {},
   "outputs": [
    {
     "data": {
      "text/plain": [
       "InsertOneResult(ObjectId('66899416e05c0b2b54808db1'), acknowledged=True)"
      ]
     },
     "execution_count": 40,
     "metadata": {},
     "output_type": "execute_result"
    }
   ],
   "source": [
    "users_col.insert_one({\"name\": \"pens\", \"price\":11.50})"
   ]
  },
  {
   "cell_type": "code",
   "execution_count": 47,
   "id": "83d2f358",
   "metadata": {},
   "outputs": [],
   "source": [
    "try: \n",
    "    users_col.insert_one\n",
    "except pymongo.errors.BulWriteError:\n",
    "    print(\"Bulk Write not key Detected\")"
   ]
  },
  {
   "cell_type": "markdown",
   "id": "0a661035-c744-41ff-922d-610a04727fe8",
   "metadata": {},
   "source": [
    "For both we Though we create Different Varibables and it is recommened not to Quit thr application But Instead this this TRY AND EXCEPT METHOD\n",
    "\n",
    "for insert_one it is DuplicateKeyError and insert_many is BulkWriteError: \n"
   ]
  },
  {
   "cell_type": "code",
   "execution_count": 46,
   "id": "8684d232",
   "metadata": {},
   "outputs": [],
   "source": [
    "try: \n",
    "    users_col.insert_one\n",
    "except pymongo.errors.DuplicateKeyError:\n",
    "    print(\"Duplicate not key Detected\")"
   ]
  },
  {
   "cell_type": "markdown",
   "id": "5bbc7cf2",
   "metadata": {},
   "source": [
    "### insert_many() - Partial Fail Interaction"
   ]
  },
  {
   "cell_type": "code",
   "execution_count": null,
   "id": "d38370a4",
   "metadata": {},
   "outputs": [],
   "source": []
  },
  {
   "cell_type": "code",
   "execution_count": null,
   "id": "70d7bbc6",
   "metadata": {},
   "outputs": [],
   "source": []
  }
 ],
 "metadata": {
  "kernelspec": {
   "display_name": "Python 3 (ipykernel)",
   "language": "python",
   "name": "python3"
  },
  "language_info": {
   "codemirror_mode": {
    "name": "ipython",
    "version": 3
   },
   "file_extension": ".py",
   "mimetype": "text/x-python",
   "name": "python",
   "nbconvert_exporter": "python",
   "pygments_lexer": "ipython3",
   "version": "3.8.19"
  }
 },
 "nbformat": 4,
 "nbformat_minor": 5
}
